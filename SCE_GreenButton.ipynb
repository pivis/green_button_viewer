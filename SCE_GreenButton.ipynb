{
 "cells": [
  {
   "cell_type": "code",
   "execution_count": null,
   "metadata": {},
   "outputs": [],
   "source": [
    "import os\n",
    "import lxml\n",
    "import pytz\n",
    "from lxml import etree\n",
    "import datetime\n",
    "from collections import defaultdict\n",
    "\n",
    "tz = pytz.timezone('US/Pacific')\n",
    "def get_xmls():\n",
    "    directory = '.'\n",
    "    files = [f for f in os.listdir(directory) if f.endswith('.xml')]\n",
    "    data = [open(os.path.join(directory, f), 'rt').read() for f in files]\n",
    "    return [etree.XML(d.encode('utf-8')) for d in data]\n",
    "\n",
    "#r = get_xmls()[0].xpath(\"//*[name()='IntervalReading']\")[0]"
   ]
  },
  {
   "cell_type": "code",
   "execution_count": null,
   "metadata": {},
   "outputs": [],
   "source": [
    "#print(etree.tostring(r, pretty_print=True).decode('utf-8'))\n",
    "def get_datapoint(node):\n",
    "    start = int(node.xpath(\".//*[name()='start']\")[0].text)\n",
    "    duration = int(node.xpath(\".//*[name()='duration']\")[0].text)\n",
    "    value = int(node.xpath(\".//*[name()='value']\")[0].text)\n",
    "    return (start, duration, value)\n",
    "\n",
    "datapoints = [get_datapoint(node) for x in get_xmls() for node in x.xpath(\"//*[name()='IntervalReading']\")]"
   ]
  },
  {
   "cell_type": "code",
   "execution_count": null,
   "metadata": {},
   "outputs": [],
   "source": [
    "import json\n",
    "jsonstr = open('./solar_production_20160813_to_20201108.json', 'rt').read()\n",
    "solar = json.loads(jsonstr)['stats']\n",
    "solardatadict = defaultdict(float)\n",
    "for x in solar:\n",
    "    tsdate = datetime.datetime.fromtimestamp(x['start_time'], tz).date()\n",
    "    assert x['interval_length'] == 900\n",
    "    for tstime, val in enumerate(x['production']):\n",
    "        if tstime >= 96:\n",
    "            assert val is None\n",
    "        else:\n",
    "            solardatadict[(tsdate, tstime)] = (0. if val is None else val)"
   ]
  },
  {
   "cell_type": "code",
   "execution_count": null,
   "metadata": {},
   "outputs": [],
   "source": [
    "datadict = defaultdict(float)\n",
    "dates = set()\n",
    "for p in datapoints:\n",
    "    start, duration, value = p\n",
    "    assert duration == 900\n",
    "    ts = datetime.datetime.fromtimestamp(start, tz)\n",
    "    tsdate = ts.date()\n",
    "    tstime = ts.hour * 4 + ts.minute // 15\n",
    "    assert 0 <= tstime <= 95\n",
    "    datadict[(tsdate, tstime)] = value\n",
    "    dates.add(tsdate)"
   ]
  },
  {
   "cell_type": "code",
   "execution_count": null,
   "metadata": {},
   "outputs": [],
   "source": [
    "mindate, maxdate = min(dates), max(dates)\n",
    "mindate = datetime.date(2016,9,1)\n",
    "ndates = (maxdate - mindate).days + 1\n",
    "dates = [mindate + datetime.timedelta(days=i) for i in range(ndates)]"
   ]
  },
  {
   "cell_type": "code",
   "execution_count": null,
   "metadata": {},
   "outputs": [],
   "source": [
    "import plotly.graph_objects as go\n",
    "import datetime\n",
    "import numpy as np\n",
    "\n",
    "tstimes = [f'{i//4:02}:{15*(i%4):02}' for i in range(96)]\n",
    "vals = np.zeros(shape=(96, ndates))\n",
    "for k, v in datadict.items():\n",
    "    tsdate, tstime = k\n",
    "    dateind = (tsdate - mindate).days\n",
    "    assert 0 <= dateind < ndates \n",
    "    vals[tstime, dateind] += v * 0\n",
    "for k, v in solardatadict.items():\n",
    "    tsdate, tstime = k\n",
    "    dateind = (tsdate - mindate).days\n",
    "    if 0 <= dateind < ndates:\n",
    "        vals[tstime, dateind] += v * 4\n",
    "    \n",
    "fig = go.Figure(data=go.Heatmap(\n",
    "        z=vals,\n",
    "        x=dates,\n",
    "        y=tstimes,\n",
    "        #colorscale='Viridis'\n",
    "    )\n",
    ")\n",
    "\n",
    "fig.update_layout(\n",
    "    title='Power usage',\n",
    "    xaxis_nticks=36,\n",
    "    #autosize=False,\n",
    "    #width=5000,\n",
    "    #height=2000,\n",
    "    #margin=dict(\n",
    "    #    l=50,\n",
    "    #    r=50,\n",
    "    #    b=100,\n",
    "    #    t=100,\n",
    "    #    pad=4\n",
    "    #),\n",
    ")\n",
    "\n",
    "fig.show()\n"
   ]
  }
 ],
 "metadata": {
  "kernelspec": {
   "display_name": "Python 3",
   "language": "python",
   "name": "python3"
  },
  "language_info": {
   "codemirror_mode": {
    "name": "ipython",
    "version": 3
   },
   "file_extension": ".py",
   "mimetype": "text/x-python",
   "name": "python",
   "nbconvert_exporter": "python",
   "pygments_lexer": "ipython3",
   "version": "3.7.4"
  }
 },
 "nbformat": 4,
 "nbformat_minor": 2
}
