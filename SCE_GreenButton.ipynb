{
 "cells": [
  {
   "cell_type": "code",
   "execution_count": null,
   "metadata": {},
   "outputs": [],
   "source": [
    "import os\n",
    "import lxml\n",
    "import pytz\n",
    "from lxml import etree\n",
    "import datetime\n",
    "from collections import defaultdict\n",
    "import green_button\n",
    "import solar_data\n",
    "\n",
    "tz = pytz.timezone('US/Pacific')\n",
    "mindate = datetime.date(2020, 6, 1)\n",
    "maxdate = datetime.date(2020, 11, 6)\n",
    "include_solar = True\n",
    "include_meter = True\n"
   ]
  },
  {
   "cell_type": "code",
   "execution_count": null,
   "metadata": {},
   "outputs": [],
   "source": [
    "solardatadict = solar_data.load_solar_data_from_json(tz)"
   ]
  },
  {
   "cell_type": "code",
   "execution_count": null,
   "metadata": {},
   "outputs": [],
   "source": [
    "import plotly.graph_objects as go\n",
    "import datetime\n",
    "import numpy as np\n",
    "import ipywidgets as ipw\n",
    "import holoviews as hv\n",
    "from holoviews import opts\n",
    "    \n",
    "hv.extension('bokeh')\n",
    "\n",
    "\n",
    "def run(contents, mindate, maxdate, width=500):\n",
    "    datadict, dates = green_button.load_sce_data_from_xml(contents, tz)\n",
    "    ndates = (maxdate - mindate).days + 1\n",
    "    dates = [mindate + datetime.timedelta(days=i) for i in range(ndates)]\n",
    "    tstimes = [f'{i//4:02}:{15*(i%4):02}' for i in range(96)]\n",
    "    vals = np.zeros(shape=(96, ndates))\n",
    "    multiplier = 1.\n",
    "\n",
    "    if include_meter:\n",
    "        for k, v in datadict.items():\n",
    "            tsdate, tstime = k\n",
    "            dateind = (tsdate - mindate).days\n",
    "            if 0 <= dateind < ndates: \n",
    "                vals[tstime, dateind] += v * multiplier\n",
    "\n",
    "    if include_solar:\n",
    "        for k, v in solardatadict.items():\n",
    "            tsdate, tstime = k\n",
    "            dateind = (tsdate - mindate).days\n",
    "            if 0 <= dateind < ndates:\n",
    "                vals[tstime, dateind] += v * multiplier\n",
    "                \n",
    "    heatmap = hv.HeatMap([(datetime.datetime(dates[j].year, dates[j].month, dates[j].day),tstimes[i],vals[i,j]) for i in range(96) for j in range(ndates)], kdims=['date', 'tstime'], vdims=['energy']).options(yticks=range(0,96,4))\n",
    "    per_day = hv.Curve([(datetime.datetime(dates[j].year, dates[j].month, dates[j].day), vals[:,j].sum()) for j in range(ndates)], kdims=['date'], vdims=['energy'])\n",
    "    \n",
    "    display(hv.Layout([heatmap,per_day]).cols(1).opts([opts.HeatMap(tools=['hover'], colorbar=True, height=600, width=width, toolbar='above'),\n",
    "                                   opts.Curve(tools=['hover'], width=width)]))\n",
    "\n",
    "def blabla():\n",
    "    fig = go.Figure(data=go.Heatmap(\n",
    "            z=vals,\n",
    "            x=dates,\n",
    "            y=tstimes,\n",
    "            #colorscale='Viridis'\n",
    "        )\n",
    "    )\n",
    "\n",
    "    fig.update_layout(\n",
    "        title='Power usage',\n",
    "        xaxis_nticks=36,\n",
    "        #autosize=False,\n",
    "        #width=5000,\n",
    "        #height=2000,\n",
    "        #margin=dict(\n",
    "        #    l=50,\n",
    "        #    r=50,\n",
    "        #    b=100,\n",
    "        #    t=100,\n",
    "        #    pad=4\n",
    "        #),\n",
    "    )\n",
    "\n",
    "    fig.show()\n"
   ]
  },
  {
   "cell_type": "code",
   "execution_count": null,
   "metadata": {
    "scrolled": false
   },
   "outputs": [],
   "source": [
    "from IPython.display import display, clear_output\n",
    "startipw = ipw.DatePicker()\n",
    "endipw = ipw.DatePicker()\n",
    "runbtn = ipw.Button(description=\"run\", layout=ipw.Layout(width=\"45px\"))\n",
    "uploader = ipw.FileUpload(accept='.xml', multiple=True)\n",
    "usl = ipw.Label(\"Upload SCE usage data xml here: \")\n",
    "res = []\n",
    "def on_click(btn):\n",
    "    clear_output()\n",
    "    display(show_widget())\n",
    "    s = startipw.value\n",
    "    e = endipw.value\n",
    "    if s is not None and e is not None:\n",
    "        res.append(run([v['content'] for v in uploader.value.values()], s, e))\n",
    "        \n",
    "runbtn.on_click(on_click)\n",
    "\n",
    "def show_widget():\n",
    "    return ipw.VBox((ipw.HBox((usl, uploader)), startipw, endipw, runbtn))\n",
    "    \n",
    "show_widget()"
   ]
  }
 ],
 "metadata": {
  "kernelspec": {
   "display_name": "Python 3",
   "language": "python",
   "name": "python3"
  },
  "language_info": {
   "codemirror_mode": {
    "name": "ipython",
    "version": 3
   },
   "file_extension": ".py",
   "mimetype": "text/x-python",
   "name": "python",
   "nbconvert_exporter": "python",
   "pygments_lexer": "ipython3",
   "version": "3.9.0"
  }
 },
 "nbformat": 4,
 "nbformat_minor": 2
}
